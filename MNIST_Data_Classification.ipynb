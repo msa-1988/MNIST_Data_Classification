{
  "nbformat": 4,
  "nbformat_minor": 0,
  "metadata": {
    "colab": {
      "provenance": [],
      "gpuType": "T4",
      "authorship_tag": "ABX9TyPk0m4VM88+PUqKcJ2m1l7n",
      "include_colab_link": true
    },
    "kernelspec": {
      "name": "python3",
      "display_name": "Python 3"
    },
    "language_info": {
      "name": "python"
    },
    "accelerator": "GPU"
  },
  "cells": [
    {
      "cell_type": "markdown",
      "metadata": {
        "id": "view-in-github",
        "colab_type": "text"
      },
      "source": [
        "<a href=\"https://colab.research.google.com/github/msa-1988/MNIST_Data_Classification/blob/main/MNIST_Data_Classification.ipynb\" target=\"_parent\"><img src=\"https://colab.research.google.com/assets/colab-badge.svg\" alt=\"Open In Colab\"/></a>"
      ]
    },
    {
      "cell_type": "markdown",
      "source": [
        "**State of the Art for MNIST Data Classification**\n",
        "MNIST is a popular benchmark dataset for handwritten digit recognition. Over the years, various machine learning and deep learning techniques have been applied to achieve state-of-the-art performance on this dataset. In this project, we will explore the performance of two neural network models, Artificial Neural Networks (ANN) and Convolutional Neural Networks (CNN), for classifying the MNIST digits.\n",
        "\n",
        "**Artificial Neural Networks (ANN)**\n",
        "ANN is a type of feedforward neural network, commonly used for pattern recognition and classification tasks. In the context of MNIST classification, an ANN can be designed with one or more hidden layers, each comprising multiple neurons. These hidden layers learn non-linear representations of the input data, enabling the network to capture complex patterns and make accurate predictions.\n",
        "\n",
        "We will implement an ANN using the PyTorch framework. The ANN model will consist of fully connected layers, where each neuron is connected to every neuron in the previous and subsequent layers. By training the ANN on the MNIST dataset, we aim to achieve a high accuracy level in recognizing handwritten digits.\n",
        "\n",
        "**Convolutional Neural Networks (CNN)**\n",
        "CNNs have revolutionized image classification tasks, including MNIST digit recognition. Unlike ANNs, CNNs leverage the concept of local receptive fields, shared weights, and spatial hierarchies to efficiently extract features from images. These features are learned by applying convolutional and pooling layers, which enable the network to detect edges, shapes, and other relevant patterns in the input images.\n",
        "\n",
        "We will also implement a CNN using PyTorch for the MNIST classification task. The CNN model will consist of convolutional layers, followed by pooling layers, and fully connected layers at the end. This architecture allows the CNN to automatically learn and capture intricate spatial features present in the MNIST images, leading to improved accuracy in digit classification.\n",
        "\n",
        "By comparing the accuracy of both the ANN and CNN models on the MNIST dataset, we can gain insights into the performance differences between these two neural network architectures. This analysis will provide valuable information on which model performs better for handwritten digit recognition, thereby contributing to the understanding of deep learning techniques in image classification tasks.\n",
        "\n",
        "Feel free to modify and expand upon this draft to suit your needs."
      ],
      "metadata": {
        "id": "YmThQ9KpeXpC"
      }
    },
    {
      "cell_type": "markdown",
      "source": [
        "# Importing the necessary libraries:"
      ],
      "metadata": {
        "id": "5Lwy6Y8dBTvK"
      }
    },
    {
      "cell_type": "code",
      "execution_count": 2,
      "metadata": {
        "id": "ZI4MOVdH-VJP"
      },
      "outputs": [],
      "source": [
        "\n",
        "import torch\n",
        "import torch.nn as nn\n",
        "import torch.optim as optim\n",
        "from torchvision import datasets, transforms\n",
        "from sklearn.metrics import classification_report\n",
        "import matplotlib.pyplot as plt"
      ]
    },
    {
      "cell_type": "markdown",
      "source": [
        "Check for GPU"
      ],
      "metadata": {
        "id": "ldX6tDEnLgNT"
      }
    },
    {
      "cell_type": "code",
      "source": [
        "# Device configuration\n",
        "device = torch.device('cuda' if torch.cuda.is_available() else 'cpu')\n",
        "device"
      ],
      "metadata": {
        "colab": {
          "base_uri": "https://localhost:8080/"
        },
        "id": "MBqyLPtWLh0G",
        "outputId": "2a07f51c-9e40-49b5-ddfc-c4da2817bdc3"
      },
      "execution_count": 3,
      "outputs": [
        {
          "output_type": "execute_result",
          "data": {
            "text/plain": [
              "device(type='cuda')"
            ]
          },
          "metadata": {},
          "execution_count": 3
        }
      ]
    },
    {
      "cell_type": "markdown",
      "source": [
        "Loading and preprocessing the MNIST dataset:"
      ],
      "metadata": {
        "id": "NGH6x9C0Be5j"
      }
    },
    {
      "cell_type": "code",
      "source": [
        "# Define transformations for the dataset\n",
        "transform = transforms.Compose([\n",
        "    transforms.ToTensor(),                      # Convert image to tensor\n",
        "    transforms.Normalize((0.1307,), (0.3081,))  # Normalize the image\n",
        "])\n",
        "\n",
        "# Load the MNIST dataset\n",
        "train_dataset = datasets.MNIST(\n",
        "    root='./data', train=True, download=True, transform=transform\n",
        ")\n",
        "test_dataset = datasets.MNIST(\n",
        "    root='./data', train=False, download=True, transform=transform\n",
        ")\n",
        "\n",
        "# Create data loaders\n",
        "batch_size = 64\n",
        "train_loader = torch.utils.data.DataLoader(train_dataset, batch_size=batch_size, shuffle=True)\n",
        "test_loader = torch.utils.data.DataLoader(test_dataset, batch_size=batch_size, shuffle=False)\n"
      ],
      "metadata": {
        "colab": {
          "base_uri": "https://localhost:8080/"
        },
        "id": "FuGchXNOBfzz",
        "outputId": "8e2d4641-a787-433f-f4e0-dff4b84ddb08"
      },
      "execution_count": 4,
      "outputs": [
        {
          "output_type": "stream",
          "name": "stdout",
          "text": [
            "Downloading http://yann.lecun.com/exdb/mnist/train-images-idx3-ubyte.gz\n",
            "Downloading http://yann.lecun.com/exdb/mnist/train-images-idx3-ubyte.gz to ./data/MNIST/raw/train-images-idx3-ubyte.gz\n"
          ]
        },
        {
          "output_type": "stream",
          "name": "stderr",
          "text": [
            "100%|██████████| 9912422/9912422 [00:00<00:00, 209450482.09it/s]"
          ]
        },
        {
          "output_type": "stream",
          "name": "stdout",
          "text": [
            "Extracting ./data/MNIST/raw/train-images-idx3-ubyte.gz to ./data/MNIST/raw\n"
          ]
        },
        {
          "output_type": "stream",
          "name": "stderr",
          "text": [
            "\n"
          ]
        },
        {
          "output_type": "stream",
          "name": "stdout",
          "text": [
            "\n",
            "Downloading http://yann.lecun.com/exdb/mnist/train-labels-idx1-ubyte.gz\n",
            "Downloading http://yann.lecun.com/exdb/mnist/train-labels-idx1-ubyte.gz to ./data/MNIST/raw/train-labels-idx1-ubyte.gz\n"
          ]
        },
        {
          "output_type": "stream",
          "name": "stderr",
          "text": [
            "100%|██████████| 28881/28881 [00:00<00:00, 121622182.55it/s]\n"
          ]
        },
        {
          "output_type": "stream",
          "name": "stdout",
          "text": [
            "Extracting ./data/MNIST/raw/train-labels-idx1-ubyte.gz to ./data/MNIST/raw\n",
            "\n",
            "Downloading http://yann.lecun.com/exdb/mnist/t10k-images-idx3-ubyte.gz\n",
            "Downloading http://yann.lecun.com/exdb/mnist/t10k-images-idx3-ubyte.gz to ./data/MNIST/raw/t10k-images-idx3-ubyte.gz\n"
          ]
        },
        {
          "output_type": "stream",
          "name": "stderr",
          "text": [
            "100%|██████████| 1648877/1648877 [00:00<00:00, 188644374.04it/s]\n"
          ]
        },
        {
          "output_type": "stream",
          "name": "stdout",
          "text": [
            "Extracting ./data/MNIST/raw/t10k-images-idx3-ubyte.gz to ./data/MNIST/raw\n",
            "\n",
            "Downloading http://yann.lecun.com/exdb/mnist/t10k-labels-idx1-ubyte.gz\n",
            "Downloading http://yann.lecun.com/exdb/mnist/t10k-labels-idx1-ubyte.gz to ./data/MNIST/raw/t10k-labels-idx1-ubyte.gz\n"
          ]
        },
        {
          "output_type": "stream",
          "name": "stderr",
          "text": [
            "100%|██████████| 4542/4542 [00:00<00:00, 20934647.00it/s]"
          ]
        },
        {
          "output_type": "stream",
          "name": "stdout",
          "text": [
            "Extracting ./data/MNIST/raw/t10k-labels-idx1-ubyte.gz to ./data/MNIST/raw\n",
            "\n"
          ]
        },
        {
          "output_type": "stream",
          "name": "stderr",
          "text": [
            "\n"
          ]
        }
      ]
    },
    {
      "cell_type": "code",
      "source": [
        "# Defining the architecture of the neural network:\n",
        "class NeuralNetwork(nn.Module):\n",
        "    def __init__(self):\n",
        "        super(NeuralNetwork, self).__init__()\n",
        "        self.fc1 = nn.Linear(784, 128)  # Fully connected layer 1\n",
        "        self.fc2 = nn.Linear(128, 64)   # Fully connected layer 2\n",
        "        # self.fc21 = nn.Linear(64, 32)   # Fully connected layer 2\n",
        "        self.fc3 = nn.Linear(64, 10)    # Output layer with 10 units (for 10 classes)\n",
        "\n",
        "    def forward(self, x):\n",
        "        x = torch.flatten(x, 1)         # Flatten the input tensor\n",
        "        x = torch.relu(self.fc1(x))     # Apply ReLU activation to the first layer\n",
        "        x = torch.relu(self.fc2(x))     # Apply ReLU activation to the second layer\n",
        "        # x = torch.relu(self.fc21(x))     # Apply ReLU activation to the second layer\n",
        "        x = self.fc3(x)                 # Output layer (no activation function)\n",
        "        return x\n"
      ],
      "metadata": {
        "id": "o7a_ucWj_IyK"
      },
      "execution_count": 5,
      "outputs": []
    },
    {
      "cell_type": "markdown",
      "source": [
        "In this example, we define a simple feedforward neural network with four fully connected layers. The first layer takes input of size 784 (representing a flattened image of 28x28 pixels). The hidden layers have 128 and 64 units, and  64 and 32 units respectively. Finally, the output layer has 10 units corresponding to the 10 classes in a classification task."
      ],
      "metadata": {
        "id": "90lkDA9O_vQ4"
      }
    },
    {
      "cell_type": "markdown",
      "source": [
        "Creating an instance of the neural network and defining the loss function and optimizer:"
      ],
      "metadata": {
        "id": "xjsdVqzv_zJD"
      }
    },
    {
      "cell_type": "code",
      "source": [
        "net = NeuralNetwork().to(device)\n",
        "criterion = nn.CrossEntropyLoss()  # Cross-entropy loss for classification\n",
        "optimizer = optim.SGD(net.parameters(), lr=0.001)  # Stochastic Gradient Descent optimizer\n"
      ],
      "metadata": {
        "id": "N7g1rvAq_iCT"
      },
      "execution_count": 6,
      "outputs": []
    },
    {
      "cell_type": "markdown",
      "source": [
        "Training the Artificial neural network ANN:"
      ],
      "metadata": {
        "id": "MUjrqreV_8mA"
      }
    },
    {
      "cell_type": "code",
      "source": [
        "# Train the CNN\n",
        "num_epochs = 10\n",
        "for epoch in range(num_epochs):\n",
        "    running_loss = 0.0\n",
        "    for i, (inputs, labels) in enumerate(train_loader):\n",
        "        inputs = inputs.to(device)  # Move inputs to the GPU\n",
        "        labels = labels.to(device)  # Move labels to the GPU\n",
        "\n",
        "        optimizer.zero_grad()\n",
        "        outputs = net(inputs)\n",
        "        loss = criterion(outputs, labels)\n",
        "        loss.backward()\n",
        "        optimizer.step()\n",
        "\n",
        "        running_loss += loss.item()\n",
        "        if i % 100 == 99:\n",
        "            print(f'Epoch: {epoch+1}, Batch: {i+1}, Loss: {running_loss/100:.3f}')\n",
        "            running_loss = 0.0"
      ],
      "metadata": {
        "colab": {
          "base_uri": "https://localhost:8080/"
        },
        "id": "hto2YrojrnpK",
        "outputId": "73eb0e22-cbad-419d-9de2-2522bd6944a2"
      },
      "execution_count": 7,
      "outputs": [
        {
          "output_type": "stream",
          "name": "stdout",
          "text": [
            "Epoch: 1, Batch: 100, Loss: 2.285\n",
            "Epoch: 1, Batch: 200, Loss: 2.258\n",
            "Epoch: 1, Batch: 300, Loss: 2.228\n",
            "Epoch: 1, Batch: 400, Loss: 2.194\n",
            "Epoch: 1, Batch: 500, Loss: 2.159\n",
            "Epoch: 1, Batch: 600, Loss: 2.118\n",
            "Epoch: 1, Batch: 700, Loss: 2.074\n",
            "Epoch: 1, Batch: 800, Loss: 2.025\n",
            "Epoch: 1, Batch: 900, Loss: 1.968\n",
            "Epoch: 2, Batch: 100, Loss: 1.879\n",
            "Epoch: 2, Batch: 200, Loss: 1.807\n",
            "Epoch: 2, Batch: 300, Loss: 1.717\n",
            "Epoch: 2, Batch: 400, Loss: 1.637\n",
            "Epoch: 2, Batch: 500, Loss: 1.559\n",
            "Epoch: 2, Batch: 600, Loss: 1.478\n",
            "Epoch: 2, Batch: 700, Loss: 1.370\n",
            "Epoch: 2, Batch: 800, Loss: 1.292\n",
            "Epoch: 2, Batch: 900, Loss: 1.209\n",
            "Epoch: 3, Batch: 100, Loss: 1.120\n",
            "Epoch: 3, Batch: 200, Loss: 1.045\n",
            "Epoch: 3, Batch: 300, Loss: 0.980\n",
            "Epoch: 3, Batch: 400, Loss: 0.946\n",
            "Epoch: 3, Batch: 500, Loss: 0.885\n",
            "Epoch: 3, Batch: 600, Loss: 0.844\n",
            "Epoch: 3, Batch: 700, Loss: 0.835\n",
            "Epoch: 3, Batch: 800, Loss: 0.782\n",
            "Epoch: 3, Batch: 900, Loss: 0.757\n",
            "Epoch: 4, Batch: 100, Loss: 0.706\n",
            "Epoch: 4, Batch: 200, Loss: 0.688\n",
            "Epoch: 4, Batch: 300, Loss: 0.657\n",
            "Epoch: 4, Batch: 400, Loss: 0.668\n",
            "Epoch: 4, Batch: 500, Loss: 0.646\n",
            "Epoch: 4, Batch: 600, Loss: 0.612\n",
            "Epoch: 4, Batch: 700, Loss: 0.594\n",
            "Epoch: 4, Batch: 800, Loss: 0.601\n",
            "Epoch: 4, Batch: 900, Loss: 0.569\n",
            "Epoch: 5, Batch: 100, Loss: 0.561\n",
            "Epoch: 5, Batch: 200, Loss: 0.537\n",
            "Epoch: 5, Batch: 300, Loss: 0.535\n",
            "Epoch: 5, Batch: 400, Loss: 0.537\n",
            "Epoch: 5, Batch: 500, Loss: 0.514\n",
            "Epoch: 5, Batch: 600, Loss: 0.507\n",
            "Epoch: 5, Batch: 700, Loss: 0.515\n",
            "Epoch: 5, Batch: 800, Loss: 0.473\n",
            "Epoch: 5, Batch: 900, Loss: 0.495\n",
            "Epoch: 6, Batch: 100, Loss: 0.474\n",
            "Epoch: 6, Batch: 200, Loss: 0.493\n",
            "Epoch: 6, Batch: 300, Loss: 0.458\n",
            "Epoch: 6, Batch: 400, Loss: 0.473\n",
            "Epoch: 6, Batch: 500, Loss: 0.437\n",
            "Epoch: 6, Batch: 600, Loss: 0.450\n",
            "Epoch: 6, Batch: 700, Loss: 0.448\n",
            "Epoch: 6, Batch: 800, Loss: 0.435\n",
            "Epoch: 6, Batch: 900, Loss: 0.441\n",
            "Epoch: 7, Batch: 100, Loss: 0.430\n",
            "Epoch: 7, Batch: 200, Loss: 0.425\n",
            "Epoch: 7, Batch: 300, Loss: 0.419\n",
            "Epoch: 7, Batch: 400, Loss: 0.433\n",
            "Epoch: 7, Batch: 500, Loss: 0.415\n",
            "Epoch: 7, Batch: 600, Loss: 0.401\n",
            "Epoch: 7, Batch: 700, Loss: 0.408\n",
            "Epoch: 7, Batch: 800, Loss: 0.407\n",
            "Epoch: 7, Batch: 900, Loss: 0.411\n",
            "Epoch: 8, Batch: 100, Loss: 0.407\n",
            "Epoch: 8, Batch: 200, Loss: 0.384\n",
            "Epoch: 8, Batch: 300, Loss: 0.398\n",
            "Epoch: 8, Batch: 400, Loss: 0.398\n",
            "Epoch: 8, Batch: 500, Loss: 0.403\n",
            "Epoch: 8, Batch: 600, Loss: 0.380\n",
            "Epoch: 8, Batch: 700, Loss: 0.383\n",
            "Epoch: 8, Batch: 800, Loss: 0.396\n",
            "Epoch: 8, Batch: 900, Loss: 0.360\n",
            "Epoch: 9, Batch: 100, Loss: 0.382\n",
            "Epoch: 9, Batch: 200, Loss: 0.377\n",
            "Epoch: 9, Batch: 300, Loss: 0.364\n",
            "Epoch: 9, Batch: 400, Loss: 0.379\n",
            "Epoch: 9, Batch: 500, Loss: 0.362\n",
            "Epoch: 9, Batch: 600, Loss: 0.350\n",
            "Epoch: 9, Batch: 700, Loss: 0.366\n",
            "Epoch: 9, Batch: 800, Loss: 0.375\n",
            "Epoch: 9, Batch: 900, Loss: 0.359\n",
            "Epoch: 10, Batch: 100, Loss: 0.345\n",
            "Epoch: 10, Batch: 200, Loss: 0.362\n",
            "Epoch: 10, Batch: 300, Loss: 0.368\n",
            "Epoch: 10, Batch: 400, Loss: 0.353\n",
            "Epoch: 10, Batch: 500, Loss: 0.336\n",
            "Epoch: 10, Batch: 600, Loss: 0.353\n",
            "Epoch: 10, Batch: 700, Loss: 0.354\n",
            "Epoch: 10, Batch: 800, Loss: 0.346\n",
            "Epoch: 10, Batch: 900, Loss: 0.357\n"
          ]
        }
      ]
    },
    {
      "cell_type": "markdown",
      "source": [
        "Evaluate the ANN"
      ],
      "metadata": {
        "id": "RYhLeKa6ryMJ"
      }
    },
    {
      "cell_type": "code",
      "source": [
        "# Evaluate the CNN on the test data\n",
        "correct = 0\n",
        "total = 0\n",
        "with torch.no_grad():\n",
        "    for inputs, labels in test_loader:\n",
        "        inputs = inputs.to(device)  # Move inputs to the GPU\n",
        "        labels = labels.to(device)  # Move labels to the GPU\n",
        "\n",
        "        outputs = net(inputs)\n",
        "        _, predicted = torch.max(outputs.data, 1)\n",
        "        total += labels.size(0)\n",
        "        correct += (predicted == labels).sum().item()\n",
        "\n",
        "accuracy = 100 * correct / total\n",
        "print(f'Test Accuracy: {accuracy:.2f}%')\n",
        "\n",
        "# Compute precision, recall, and f1-score\n",
        "report = classification_report(labels.cpu(), predicted.cpu())\n",
        "\n",
        "# Print the report\n",
        "print(report)\n"
      ],
      "metadata": {
        "colab": {
          "base_uri": "https://localhost:8080/"
        },
        "id": "RzhFvyQmr05n",
        "outputId": "45a1224c-bc94-40ca-d321-d78cc50e58c7"
      },
      "execution_count": 10,
      "outputs": [
        {
          "output_type": "stream",
          "name": "stdout",
          "text": [
            "Test Accuracy: 90.56%\n",
            "              precision    recall  f1-score   support\n",
            "\n",
            "           0       1.00      1.00      1.00         1\n",
            "           1       1.00      1.00      1.00         2\n",
            "           2       1.00      1.00      1.00         2\n",
            "           3       1.00      0.50      0.67         2\n",
            "           4       1.00      1.00      1.00         2\n",
            "           5       1.00      1.00      1.00         2\n",
            "           6       1.00      1.00      1.00         2\n",
            "           7       1.00      1.00      1.00         1\n",
            "           8       0.50      1.00      0.67         1\n",
            "           9       1.00      1.00      1.00         1\n",
            "\n",
            "    accuracy                           0.94        16\n",
            "   macro avg       0.95      0.95      0.93        16\n",
            "weighted avg       0.97      0.94      0.94        16\n",
            "\n"
          ]
        }
      ]
    },
    {
      "cell_type": "markdown",
      "source": [
        "Plot some prediction results"
      ],
      "metadata": {
        "id": "MHCYi2y4r4Rc"
      }
    },
    {
      "cell_type": "code",
      "source": [
        "\n",
        "\n",
        "# Function to plot images\n",
        "def plot_images(images, labels, predictions):\n",
        "    fig, axes = plt.subplots(1, len(images), figsize=(10, 3))\n",
        "    for i, ax in enumerate(axes):\n",
        "        ax.imshow(images[i].cpu().numpy().squeeze(), cmap='gray')\n",
        "        ax.set_title(f'L:{labels[i]}, P:{predictions[i]}')\n",
        "        ax.axis('off')\n",
        "    plt.show()\n",
        "\n",
        "# Get some random test images and labels\n",
        "num_images_to_plot = 10\n",
        "random_indices = torch.randperm(len(test_dataset))[:num_images_to_plot]\n",
        "images = torch.stack([test_dataset[i][0] for i in random_indices])\n",
        "images = images.to(device)\n",
        "labels = torch.tensor([test_dataset[i][1] for i in random_indices])\n",
        "labels = labels.to(device)\n",
        "\n",
        "# Make predictions on the test images\n",
        "with torch.no_grad():\n",
        "    outputs = net(images)\n",
        "    _, predicted = torch.max(outputs.data, 1)\n",
        "\n",
        "# Move images, labels, and predictions to the CPU\n",
        "images = images.cpu()\n",
        "labels = labels.cpu()\n",
        "predicted = predicted.cpu()\n",
        "\n",
        "# Convert tensor labels and predictions to lists\n",
        "labels = labels.tolist()\n",
        "predicted = predicted.tolist()\n",
        "\n",
        "# Plot the test images with labels and predictions\n",
        "plot_images(images, labels, predicted)\n",
        "\n",
        "# Print the predictions\n",
        "print('Predictions:', predicted)\n"
      ],
      "metadata": {
        "colab": {
          "base_uri": "https://localhost:8080/",
          "height": 142
        },
        "id": "EMGVP6eHr7Ai",
        "outputId": "d1c0668e-5d8e-4ce5-a9d4-cd1fe3fa4ed1"
      },
      "execution_count": 11,
      "outputs": [
        {
          "output_type": "display_data",
          "data": {
            "text/plain": [
              "<Figure size 1000x300 with 10 Axes>"
            ],
            "image/png": "[encoded data removed]"
          },
          "metadata": {}
        },
        {
          "output_type": "stream",
          "name": "stdout",
          "text": [
            "Predictions: [3, 7, 4, 0, 9, 9, 8, 9, 2, 8]\n"
          ]
        }
      ]
    },
    {
      "cell_type": "markdown",
      "source": [
        "Second NN: We will use a convolutional neural network to check how it performs.\n",
        "Defining the architecture of CNN"
      ],
      "metadata": {
        "id": "T-hvyGb-GodM"
      }
    },
    {
      "cell_type": "code",
      "source": [
        "class ConvNet(nn.Module):\n",
        "    def __init__(self,in_channels = 1,num_classes=10):\n",
        "        super(ConvNet, self).__init__()\n",
        "        self.conv1 = nn.Conv2d(in_channels=1,out_channels= 8, kernel_size=(3,3),stride=(1,1),padding=(1,1))  # 1 input channel, 32 output channels, 3x3 kernel\n",
        "        self.pool = nn.MaxPool2d(kernel_size=(2,2),stride=(2,2))\n",
        "        self.conv2 = nn.Conv2d(in_channels=8,out_channels= 16, kernel_size=(3,3),stride=(1,1),padding=(1,1))  # 1 input channel, 32 output channels, 3x3 kernel\n",
        "        self.fc1 = nn.Linear(16*7*7, num_classes)                 # Output layer with 10 units (for 10 classes)\n",
        "\n",
        "    def forward(self, x):\n",
        "        x = torch.relu(self.conv1(x))\n",
        "        x=self.pool(x)\n",
        "        x = torch.relu(self.conv2(x))\n",
        "        x=self.pool(x)\n",
        "        x = x.reshape(x.shape[0], -1)  # Flatten the input tensor\n",
        "        x = self.fc1(x)\n",
        "        return x\n"
      ],
      "metadata": {
        "id": "xPDPdDPNGoyb"
      },
      "execution_count": 12,
      "outputs": []
    },
    {
      "cell_type": "markdown",
      "source": [
        "Create an instance of CNN, define the loss function, and optimiser"
      ],
      "metadata": {
        "id": "mNalIadRGt9j"
      }
    },
    {
      "cell_type": "code",
      "source": [
        "# Create an instance of the CNN and move it to the GPU\n",
        "cnn = ConvNet().to(device)\n",
        "criterion = nn.CrossEntropyLoss()\n",
        "optimizer = optim.Adam(cnn.parameters(),lr=0.001)"
      ],
      "metadata": {
        "id": "c1378aotG0cZ"
      },
      "execution_count": 13,
      "outputs": []
    },
    {
      "cell_type": "code",
      "source": [
        "# Train the CNN\n",
        "num_epochs = 10\n",
        "for epoch in range(num_epochs):\n",
        "    running_loss = 0.0\n",
        "    for i, (inputs, labels) in enumerate(train_loader):\n",
        "        inputs = inputs.to(device)  # Move inputs to the GPU\n",
        "        labels = labels.to(device)  # Move labels to the GPU\n",
        "        # print(inputs.shape)\n",
        "        # input(\"presse\")\n",
        "\n",
        "        optimizer.zero_grad()\n",
        "        outputs = cnn(inputs)\n",
        "        loss = criterion(outputs, labels)\n",
        "        loss.backward()\n",
        "        optimizer.step()\n",
        "\n",
        "        running_loss += loss.item()\n",
        "        if i % 100 == 99:\n",
        "            print(f'Epoch: {epoch+1}, Batch: {i+1}, Loss: {running_loss/100:.3f}')\n",
        "            running_loss = 0.0"
      ],
      "metadata": {
        "colab": {
          "base_uri": "https://localhost:8080/"
        },
        "id": "TBBRv-jU_yQx",
        "outputId": "befc1ef3-1d86-469c-c4da-652e36640d74"
      },
      "execution_count": 14,
      "outputs": [
        {
          "output_type": "stream",
          "name": "stdout",
          "text": [
            "Epoch: 1, Batch: 100, Loss: 0.911\n",
            "Epoch: 1, Batch: 200, Loss: 0.322\n",
            "Epoch: 1, Batch: 300, Loss: 0.226\n",
            "Epoch: 1, Batch: 400, Loss: 0.155\n",
            "Epoch: 1, Batch: 500, Loss: 0.157\n",
            "Epoch: 1, Batch: 600, Loss: 0.119\n",
            "Epoch: 1, Batch: 700, Loss: 0.118\n",
            "Epoch: 1, Batch: 800, Loss: 0.112\n",
            "Epoch: 1, Batch: 900, Loss: 0.096\n",
            "Epoch: 2, Batch: 100, Loss: 0.080\n",
            "Epoch: 2, Batch: 200, Loss: 0.093\n",
            "Epoch: 2, Batch: 300, Loss: 0.077\n",
            "Epoch: 2, Batch: 400, Loss: 0.087\n",
            "Epoch: 2, Batch: 500, Loss: 0.074\n",
            "Epoch: 2, Batch: 600, Loss: 0.073\n",
            "Epoch: 2, Batch: 700, Loss: 0.072\n",
            "Epoch: 2, Batch: 800, Loss: 0.072\n",
            "Epoch: 2, Batch: 900, Loss: 0.068\n",
            "Epoch: 3, Batch: 100, Loss: 0.059\n",
            "Epoch: 3, Batch: 200, Loss: 0.052\n",
            "Epoch: 3, Batch: 300, Loss: 0.058\n",
            "Epoch: 3, Batch: 400, Loss: 0.060\n",
            "Epoch: 3, Batch: 500, Loss: 0.056\n",
            "Epoch: 3, Batch: 600, Loss: 0.065\n",
            "Epoch: 3, Batch: 700, Loss: 0.063\n",
            "Epoch: 3, Batch: 800, Loss: 0.052\n",
            "Epoch: 3, Batch: 900, Loss: 0.057\n",
            "Epoch: 4, Batch: 100, Loss: 0.051\n",
            "Epoch: 4, Batch: 200, Loss: 0.054\n",
            "Epoch: 4, Batch: 300, Loss: 0.043\n",
            "Epoch: 4, Batch: 400, Loss: 0.049\n",
            "Epoch: 4, Batch: 500, Loss: 0.048\n",
            "Epoch: 4, Batch: 600, Loss: 0.039\n",
            "Epoch: 4, Batch: 700, Loss: 0.050\n",
            "Epoch: 4, Batch: 800, Loss: 0.049\n",
            "Epoch: 4, Batch: 900, Loss: 0.049\n",
            "Epoch: 5, Batch: 100, Loss: 0.036\n",
            "Epoch: 5, Batch: 200, Loss: 0.044\n",
            "Epoch: 5, Batch: 300, Loss: 0.036\n",
            "Epoch: 5, Batch: 400, Loss: 0.040\n",
            "Epoch: 5, Batch: 500, Loss: 0.037\n",
            "Epoch: 5, Batch: 600, Loss: 0.052\n",
            "Epoch: 5, Batch: 700, Loss: 0.044\n",
            "Epoch: 5, Batch: 800, Loss: 0.050\n",
            "Epoch: 5, Batch: 900, Loss: 0.046\n",
            "Epoch: 6, Batch: 100, Loss: 0.031\n",
            "Epoch: 6, Batch: 200, Loss: 0.027\n",
            "Epoch: 6, Batch: 300, Loss: 0.038\n",
            "Epoch: 6, Batch: 400, Loss: 0.041\n",
            "Epoch: 6, Batch: 500, Loss: 0.043\n",
            "Epoch: 6, Batch: 600, Loss: 0.041\n",
            "Epoch: 6, Batch: 700, Loss: 0.039\n",
            "Epoch: 6, Batch: 800, Loss: 0.038\n",
            "Epoch: 6, Batch: 900, Loss: 0.034\n",
            "Epoch: 7, Batch: 100, Loss: 0.031\n",
            "Epoch: 7, Batch: 200, Loss: 0.028\n",
            "Epoch: 7, Batch: 300, Loss: 0.033\n",
            "Epoch: 7, Batch: 400, Loss: 0.027\n",
            "Epoch: 7, Batch: 500, Loss: 0.041\n",
            "Epoch: 7, Batch: 600, Loss: 0.032\n",
            "Epoch: 7, Batch: 700, Loss: 0.043\n",
            "Epoch: 7, Batch: 800, Loss: 0.047\n",
            "Epoch: 7, Batch: 900, Loss: 0.033\n",
            "Epoch: 8, Batch: 100, Loss: 0.026\n",
            "Epoch: 8, Batch: 200, Loss: 0.026\n",
            "Epoch: 8, Batch: 300, Loss: 0.035\n",
            "Epoch: 8, Batch: 400, Loss: 0.033\n",
            "Epoch: 8, Batch: 500, Loss: 0.030\n",
            "Epoch: 8, Batch: 600, Loss: 0.030\n",
            "Epoch: 8, Batch: 700, Loss: 0.036\n",
            "Epoch: 8, Batch: 800, Loss: 0.025\n",
            "Epoch: 8, Batch: 900, Loss: 0.024\n",
            "Epoch: 9, Batch: 100, Loss: 0.018\n",
            "Epoch: 9, Batch: 200, Loss: 0.024\n",
            "Epoch: 9, Batch: 300, Loss: 0.021\n",
            "Epoch: 9, Batch: 400, Loss: 0.029\n",
            "Epoch: 9, Batch: 500, Loss: 0.034\n",
            "Epoch: 9, Batch: 600, Loss: 0.031\n",
            "Epoch: 9, Batch: 700, Loss: 0.033\n",
            "Epoch: 9, Batch: 800, Loss: 0.030\n",
            "Epoch: 9, Batch: 900, Loss: 0.028\n",
            "Epoch: 10, Batch: 100, Loss: 0.024\n",
            "Epoch: 10, Batch: 200, Loss: 0.023\n",
            "Epoch: 10, Batch: 300, Loss: 0.021\n",
            "Epoch: 10, Batch: 400, Loss: 0.017\n",
            "Epoch: 10, Batch: 500, Loss: 0.027\n",
            "Epoch: 10, Batch: 600, Loss: 0.029\n",
            "Epoch: 10, Batch: 700, Loss: 0.023\n",
            "Epoch: 10, Batch: 800, Loss: 0.034\n",
            "Epoch: 10, Batch: 900, Loss: 0.031\n"
          ]
        }
      ]
    },
    {
      "cell_type": "markdown",
      "source": [
        "Evaluating the neural network on test data:"
      ],
      "metadata": {
        "id": "I4V8QxXHAXtu"
      }
    },
    {
      "cell_type": "code",
      "source": [
        "# Evaluate the CNN on the test data\n",
        "correct = 0\n",
        "total = 0\n",
        "with torch.no_grad():\n",
        "    for inputs, labels in test_loader:\n",
        "        inputs = inputs.to(device)  # Move inputs to the GPU\n",
        "        labels = labels.to(device)  # Move labels to the GPU\n",
        "\n",
        "        outputs = cnn(inputs)\n",
        "        _, predicted = torch.max(outputs.data, 1)\n",
        "        total += labels.size(0)\n",
        "        correct += (predicted == labels).sum().item()\n",
        "\n",
        "accuracy = 100 * correct / total\n",
        "print(f'Test Accuracy: {accuracy:.2f}%')\n",
        "\n",
        "# Compute precision, recall, and f1-score\n",
        "report = classification_report(labels.cpu(), predicted.cpu())\n",
        "\n",
        "# Print the report\n",
        "print(report)\n"
      ],
      "metadata": {
        "colab": {
          "base_uri": "https://localhost:8080/"
        },
        "id": "jYHuAbY6AZEU",
        "outputId": "aaf482d3-bc4d-4c7f-93e5-e2047a77921a"
      },
      "execution_count": 15,
      "outputs": [
        {
          "output_type": "stream",
          "name": "stdout",
          "text": [
            "Test Accuracy: 98.74%\n",
            "              precision    recall  f1-score   support\n",
            "\n",
            "           0       1.00      1.00      1.00         1\n",
            "           1       1.00      1.00      1.00         2\n",
            "           2       1.00      1.00      1.00         2\n",
            "           3       1.00      1.00      1.00         2\n",
            "           4       1.00      1.00      1.00         2\n",
            "           5       1.00      1.00      1.00         2\n",
            "           6       1.00      1.00      1.00         2\n",
            "           7       1.00      1.00      1.00         1\n",
            "           8       1.00      1.00      1.00         1\n",
            "           9       1.00      1.00      1.00         1\n",
            "\n",
            "    accuracy                           1.00        16\n",
            "   macro avg       1.00      1.00      1.00        16\n",
            "weighted avg       1.00      1.00      1.00        16\n",
            "\n"
          ]
        }
      ]
    },
    {
      "cell_type": "code",
      "source": [
        "\n",
        "\n",
        "# # Function to plot images\n",
        "# def plot_images(images, labels, predictions):\n",
        "#     fig, axes = plt.subplots(1, len(images), figsize=(10, 3))\n",
        "#     for i, ax in enumerate(axes):\n",
        "#         ax.imshow(images[i].cpu().numpy().squeeze(), cmap='gray')\n",
        "#         ax.set_title(f'Lbl:{labels[i]}, Prd:{predictions[i]}')\n",
        "#         ax.axis('off')\n",
        "#     plt.show()\n",
        "\n",
        "# Get some random test images and labels\n",
        "num_images_to_plot = 10\n",
        "random_indices = torch.randperm(len(test_dataset))[:num_images_to_plot]\n",
        "images = torch.stack([test_dataset[i][0] for i in random_indices])\n",
        "images = images.to(device)\n",
        "labels = torch.tensor([test_dataset[i][1] for i in random_indices])\n",
        "labels = labels.to(device)\n",
        "\n",
        "# Make predictions on the test images\n",
        "with torch.no_grad():\n",
        "    outputs = cnn(images)\n",
        "    _, predicted = torch.max(outputs.data, 1)\n",
        "\n",
        "# Move images, labels, and predictions to the CPU\n",
        "images = images.cpu()\n",
        "labels = labels.cpu()\n",
        "predicted = predicted.cpu()\n",
        "\n",
        "# Convert tensor labels and predictions to lists\n",
        "labels = labels.tolist()\n",
        "predicted = predicted.tolist()\n",
        "\n",
        "# Plot the test images with labels and predictions\n",
        "plot_images(images, labels, predicted)\n",
        "\n",
        "# Print the predictions\n",
        "print('Predictions:', predicted)\n"
      ],
      "metadata": {
        "colab": {
          "base_uri": "https://localhost:8080/",
          "height": 142
        },
        "id": "reji4wvdDKF2",
        "outputId": "bb094333-d955-4750-9d10-1d9fbe125ae9"
      },
      "execution_count": 16,
      "outputs": [
        {
          "output_type": "display_data",
          "data": {
            "text/plain": [
              "<Figure size 1000x300 with 10 Axes>"
            ],
            "image/png": "[encoded data removed]"
          },
          "metadata": {}
        },
        {
          "output_type": "stream",
          "name": "stdout",
          "text": [
            "Predictions: [6, 6, 3, 5, 1, 4, 6, 8, 5, 0]\n"
          ]
        }
      ]
    },
    {
      "cell_type": "markdown",
      "source": [
        "This example demonstrates the basic steps involved in implementing an artificial neural network using PyTorch. Remember to preprocess and load your data appropriately, adjust the hyperparameters (e.g., learning rate, number of epochs), and choose an appropriate dataset for your task."
      ],
      "metadata": {
        "id": "MGABSM5KAprm"
      }
    }
  ]
}